{
 "cells": [
  {
   "cell_type": "markdown",
   "metadata": {},
   "source": [
    "A for loop acts as an iterator in Python, it goes through items that are in a sequence "
   ]
  },
  {
   "cell_type": "markdown",
   "metadata": {},
   "source": [
    "for item in object:\n",
    "    statements to do stuff"
   ]
  },
  {
   "cell_type": "code",
   "execution_count": 8,
   "metadata": {
    "collapsed": true
   },
   "outputs": [],
   "source": [
    "l=[7,6,4,65,34]"
   ]
  },
  {
   "cell_type": "code",
   "execution_count": 9,
   "metadata": {},
   "outputs": [
    {
     "name": "stdout",
     "output_type": "stream",
     "text": [
      "7\n",
      "6\n",
      "4\n",
      "65\n",
      "34\n"
     ]
    }
   ],
   "source": [
    "for item in l:\n",
    "    print item"
   ]
  },
  {
   "cell_type": "code",
   "execution_count": 10,
   "metadata": {},
   "outputs": [
    {
     "name": "stdout",
     "output_type": "stream",
     "text": [
      "7 Is Odd\n",
      "6 Is Even\n",
      "4 Is Even\n",
      "65 Is Odd\n",
      "34 Is Even\n"
     ]
    }
   ],
   "source": [
    "# Check if nums are odd or even\n",
    "for item in l:\n",
    "        if(item % 2==0):\n",
    "            print '{i} Is Even'.format(i=item)\n",
    "        else:\n",
    "             print '{i} Is Odd'.format(i=item)"
   ]
  },
  {
   "cell_type": "code",
   "execution_count": 14,
   "metadata": {
    "collapsed": true
   },
   "outputs": [],
   "source": [
    "s='Hello Mu'"
   ]
  },
  {
   "cell_type": "code",
   "execution_count": 15,
   "metadata": {},
   "outputs": [
    {
     "name": "stdout",
     "output_type": "stream",
     "text": [
      "H\n",
      "e\n",
      "l\n",
      "l\n",
      "o\n",
      " \n",
      "M\n",
      "u\n"
     ]
    }
   ],
   "source": [
    "for letter in s:\n",
    "    print letter"
   ]
  },
  {
   "cell_type": "code",
   "execution_count": 16,
   "metadata": {},
   "outputs": [
    {
     "name": "stdout",
     "output_type": "stream",
     "text": [
      "h\n",
      "e\n",
      "l\n",
      "l\n",
      "o\n",
      " \n",
      "m\n",
      "u\n"
     ]
    }
   ],
   "source": [
    "for letter in s:\n",
    "    print letter.lower()"
   ]
  },
  {
   "cell_type": "code",
   "execution_count": 1,
   "metadata": {},
   "outputs": [
    {
     "name": "stdout",
     "output_type": "stream",
     "text": [
      "4\n"
     ]
    }
   ],
   "source": [
    "l = [(2,4),(6,4),(10,12)]\n",
    "print l[1][1]"
   ]
  },
  {
   "cell_type": "code",
   "execution_count": 2,
   "metadata": {},
   "outputs": [
    {
     "name": "stdout",
     "output_type": "stream",
     "text": [
      "(2, 4)\n",
      "(6, 4)\n",
      "(10, 12)\n"
     ]
    }
   ],
   "source": [
    "# Printing the tuples inside a list\n",
    "for item in l:\n",
    "    print item"
   ]
  },
  {
   "cell_type": "code",
   "execution_count": 3,
   "metadata": {},
   "outputs": [
    {
     "name": "stdout",
     "output_type": "stream",
     "text": [
      "6\n",
      "10\n",
      "22\n"
     ]
    }
   ],
   "source": [
    "# item1 will accept first values of the tuples\n",
    "for item1,item2 in l:\n",
    "    print item1+item2"
   ]
  },
  {
   "cell_type": "code",
   "execution_count": 1,
   "metadata": {
    "collapsed": true
   },
   "outputs": [],
   "source": [
    "# Working with dictionary\n",
    "d = {'k1':1,'k2':2,'k3':3}"
   ]
  },
  {
   "cell_type": "code",
   "execution_count": 2,
   "metadata": {},
   "outputs": [
    {
     "name": "stdout",
     "output_type": "stream",
     "text": [
      "k3\n",
      "k2\n",
      "k1\n"
     ]
    }
   ],
   "source": [
    "for item in d:\n",
    "    print item"
   ]
  },
  {
   "cell_type": "code",
   "execution_count": 6,
   "metadata": {},
   "outputs": [
    {
     "name": "stdout",
     "output_type": "stream",
     "text": [
      "{'k3': 3, 'k2': 2, 'k1': 1}\n",
      "3\n",
      "\n",
      "3\n",
      "2\n",
      "1\n",
      "k3\n",
      "k2\n",
      "k1\n"
     ]
    }
   ],
   "source": [
    "# Will print values of the Dictonary d.\n",
    "print(d)\n",
    "print(d['k3'])\n",
    "print\n",
    "for item in d.values():\n",
    "    print item\n",
    "  # Put a space between the next for and see the change in O/P , Its cause Python focuses on indentation to understand nesting.!!  \n",
    "for items in d.keys():\n",
    "        print items "
   ]
  },
  {
   "cell_type": "code",
   "execution_count": 33,
   "metadata": {},
   "outputs": [
    {
     "name": "stdout",
     "output_type": "stream",
     "text": [
      "55555\n",
      "25\n"
     ]
    }
   ],
   "source": [
    "a='5'\n",
    "print a*5\n",
    "a=5\n",
    "print a*5"
   ]
  },
  {
   "cell_type": "code",
   "execution_count": 36,
   "metadata": {},
   "outputs": [
    {
     "name": "stdout",
     "output_type": "stream",
     "text": [
      "x = 5 and  y= 4\n"
     ]
    }
   ],
   "source": [
    "x=5\n",
    "y=4\n",
    "print 'x =',x, 'and  y=',y"
   ]
  },
  {
   "cell_type": "code",
   "execution_count": 40,
   "metadata": {},
   "outputs": [
    {
     "name": "stdout",
     "output_type": "stream",
     "text": [
      "1\n",
      "2\n",
      "3\n",
      "Loop is Broken\n"
     ]
    }
   ],
   "source": [
    "# We can have an else statement without an if Statement\n",
    "a=1\n",
    "while (a!=4):\n",
    "    print a\n",
    "    a+=1\n",
    "else:\n",
    "        print 'Loop is Broken'"
   ]
  },
  {
   "cell_type": "code",
   "execution_count": null,
   "metadata": {
    "collapsed": true
   },
   "outputs": [],
   "source": []
  }
 ],
 "metadata": {
  "kernelspec": {
   "display_name": "Python 2",
   "language": "python",
   "name": "python2"
  },
  "language_info": {
   "codemirror_mode": {
    "name": "ipython",
    "version": 2
   },
   "file_extension": ".py",
   "mimetype": "text/x-python",
   "name": "python",
   "nbconvert_exporter": "python",
   "pygments_lexer": "ipython2",
   "version": "2.7.13"
  }
 },
 "nbformat": 4,
 "nbformat_minor": 2
}
