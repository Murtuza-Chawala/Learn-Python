{
 "cells": [
  {
   "cell_type": "code",
   "execution_count": 4,
   "metadata": {},
   "outputs": [
    {
     "name": "stdout",
     "output_type": "stream",
     "text": [
      "Please Enter a Number  y\n",
      "Type Error a Number Should be Entered\n",
      "And as usual the Finally Block Executes\n"
     ]
    }
   ],
   "source": [
    "# Exceptions\n",
    "try:\n",
    "    num=int(raw_input(\"Please Enter a Number  \"))\n",
    "    # if Errors in Try\n",
    "except:\n",
    "    print 'Type Error a Number Should be Entered'\n",
    "# if No Errors in Try\n",
    "else:\n",
    "    print 'Correct Data Entered '\n",
    "\n",
    "finally:\n",
    "    print 'And as usual the Finally Block Executes'"
   ]
  },
  {
   "cell_type": "code",
   "execution_count": 16,
   "metadata": {},
   "outputs": [],
   "source": [
    "# This method will iterate till input is a number\n",
    "\n",
    "def getInt():\n",
    "        # Infinite While Loop\n",
    "    while True:\n",
    "        \n",
    "        try: \n",
    "            num=int(raw_input(\"Please Enter a Number  \"))\n",
    "        except:                \n",
    "            print 'Type Error a Number Should be Entered'\n",
    "            continue\n",
    "        else:      \n",
    "            print 'Correct Data Entered ',num\n",
    "            break             "
   ]
  },
  {
   "cell_type": "code",
   "execution_count": 17,
   "metadata": {},
   "outputs": [
    {
     "name": "stdout",
     "output_type": "stream",
     "text": [
      "Please Enter a Number  f\n",
      "Type Error a Number Should be Entered\n",
      "Please Enter a Number  g\n",
      "Type Error a Number Should be Entered\n",
      "Please Enter a Number  qw\n",
      "Type Error a Number Should be Entered\n",
      "Please Enter a Number  r\n",
      "Type Error a Number Should be Entered\n",
      "Please Enter a Number  3\n",
      "Correct Data Entered  3\n"
     ]
    }
   ],
   "source": [
    "getInt()"
   ]
  },
  {
   "cell_type": "code",
   "execution_count": null,
   "metadata": {
    "collapsed": true
   },
   "outputs": [],
   "source": []
  }
 ],
 "metadata": {
  "kernelspec": {
   "display_name": "Python 2",
   "language": "python",
   "name": "python2"
  },
  "language_info": {
   "codemirror_mode": {
    "name": "ipython",
    "version": 2
   },
   "file_extension": ".py",
   "mimetype": "text/x-python",
   "name": "python",
   "nbconvert_exporter": "python",
   "pygments_lexer": "ipython2",
   "version": "2.7.13"
  }
 },
 "nbformat": 4,
 "nbformat_minor": 2
}
