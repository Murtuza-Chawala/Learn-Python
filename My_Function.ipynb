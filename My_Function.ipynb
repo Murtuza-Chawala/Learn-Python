{
 "cells": [
  {
   "cell_type": "code",
   "execution_count": 2,
   "metadata": {
    "collapsed": true
   },
   "outputs": [],
   "source": [
    "def display():\n",
    "    print 'Hello World'\n",
    "    print 'Using a method named Display'\n",
    "    "
   ]
  },
  {
   "cell_type": "code",
   "execution_count": 2,
   "metadata": {},
   "outputs": [
    {
     "name": "stdout",
     "output_type": "stream",
     "text": [
      "Hello World\n",
      "Using a method named Display\n"
     ]
    }
   ],
   "source": [
    "display()"
   ]
  },
  {
   "cell_type": "code",
   "execution_count": 26,
   "metadata": {
    "collapsed": true
   },
   "outputs": [],
   "source": [
    "def sortlist(l):\n",
    "    l.sort()\n",
    "    return l"
   ]
  },
  {
   "cell_type": "markdown",
   "metadata": {},
   "source": [
    "Sorting number in list using func."
   ]
  },
  {
   "cell_type": "code",
   "execution_count": 30,
   "metadata": {},
   "outputs": [
    {
     "name": "stdout",
     "output_type": "stream",
     "text": [
      "The Unsorted List =  [3, 56, 2, 34, 65, 2, 3, 1]\n",
      "The Sorted List =  [1, 2, 2, 3, 3, 34, 56, 65]\n"
     ]
    }
   ],
   "source": [
    "l=[3,56,2,34,65,2,3,1]\n",
    "print 'The Unsorted List = ',l\n",
    "x=sortlist(l)\n",
    "print 'The Sorted List = ',x"
   ]
  },
  {
   "cell_type": "code",
   "execution_count": 3,
   "metadata": {},
   "outputs": [
    {
     "name": "stdout",
     "output_type": "stream",
     "text": [
      "Hello World\n",
      "Using a method named Display\n"
     ]
    }
   ],
   "source": [
    "display()"
   ]
  },
  {
   "cell_type": "code",
   "execution_count": 4,
   "metadata": {
    "collapsed": true
   },
   "outputs": [],
   "source": [
    "rem=0\n",
    "sum=0\n",
    "temp=0\n",
    "rev=0\n",
    "for num in xrange(1,200):\n",
    "    sum=0\n",
    "    rem=0\n",
    "    temp=num\n",
    "    while(temp <> 0):\n",
    "        rem=(temp%10)\n",
    "        sum=(temp*temp*temp)\n",
    "        temp=temp/10\n",
    "if(num==sum):\n",
    "    print num"
   ]
  },
  {
   "cell_type": "code",
   "execution_count": 10,
   "metadata": {},
   "outputs": [
    {
     "name": "stdout",
     "output_type": "stream",
     "text": [
      "2\n",
      "4\n",
      "6\n",
      "8\n"
     ]
    }
   ],
   "source": [
    "for num in xrange(1,9):\n",
    "    if(num%2==0):\n",
    "        print num"
   ]
  },
  {
   "cell_type": "code",
   "execution_count": 27,
   "metadata": {},
   "outputs": [],
   "source": [
    "# Function That Returns lowercase,UpperCase char\n",
    "def checkcase(s):\n",
    "    lower=0\n",
    "    upper=0\n",
    "    for x in s:\n",
    "        if(x.islower()):\n",
    "            lower+=1\n",
    "        else:\n",
    "            upper+=1      \n",
    "    print 'LowerCase Character =',lower\n",
    "    print 'UpperCase Character =',upper"
   ]
  },
  {
   "cell_type": "code",
   "execution_count": 28,
   "metadata": {},
   "outputs": [
    {
     "name": "stdout",
     "output_type": "stream",
     "text": [
      "LowerCase Character = 33\n",
      "UpperCase Character = 15\n"
     ]
    }
   ],
   "source": [
    "str='Hello Mr. Rogers, how are you this fine Tuesday?'\n",
    "checkcase(str)"
   ]
  },
  {
   "cell_type": "code",
   "execution_count": null,
   "metadata": {
    "collapsed": true
   },
   "outputs": [],
   "source": []
  },
  {
   "cell_type": "code",
   "execution_count": null,
   "metadata": {
    "collapsed": true
   },
   "outputs": [],
   "source": []
  }
 ],
 "metadata": {
  "kernelspec": {
   "display_name": "Python 2",
   "language": "python",
   "name": "python2"
  },
  "language_info": {
   "codemirror_mode": {
    "name": "ipython",
    "version": 2
   },
   "file_extension": ".py",
   "mimetype": "text/x-python",
   "name": "python",
   "nbconvert_exporter": "python",
   "pygments_lexer": "ipython2",
   "version": "2.7.13"
  }
 },
 "nbformat": 4,
 "nbformat_minor": 2
}
